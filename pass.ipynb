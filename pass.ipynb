{
 "cells": [
  {
   "cell_type": "code",
   "execution_count": 1,
   "metadata": {},
   "outputs": [
    {
     "name": "stdout",
     "output_type": "stream",
     "text": [
      "Password Generator\n",
      "Generated Password: VN(}iQ[`CX^YOl;\n"
     ]
    }
   ],
   "source": [
    "import random\n",
    "import string\n",
    "\n",
    "def generate_password(length=12, use_digits=True, use_special_chars=True):\n",
    "    characters = string.ascii_letters \n",
    "    if use_digits:\n",
    "        characters += string.digits  \n",
    "    if use_special_chars:\n",
    "        characters += string.punctuation  \n",
    "    password = ''.join(random.choice(characters) for _ in range(length))\n",
    "    return password\n",
    "if __name__ == \"__main__\":\n",
    "    print(\"Password Generator\")\n",
    "    length = int(input(\"Enter the length of the password: \"))\n",
    "    use_digits = input(\"Use digits (0-9)? (yes/no): \").lower() == \"yes\"\n",
    "    use_special_chars = input(\"Use special characters? (yes/no): \").lower() == \"yes\"\n",
    "\n",
    "    password = generate_password(length, use_digits, use_special_chars)\n",
    "    print(\"Generated Password:\", password)\n"
   ]
  }
 ],
 "metadata": {
  "kernelspec": {
   "display_name": "Python 3",
   "language": "python",
   "name": "python3"
  },
  "language_info": {
   "codemirror_mode": {
    "name": "ipython",
    "version": 3
   },
   "file_extension": ".py",
   "mimetype": "text/x-python",
   "name": "python",
   "nbconvert_exporter": "python",
   "pygments_lexer": "ipython3",
   "version": "3.9.6"
  }
 },
 "nbformat": 4,
 "nbformat_minor": 2
}
